{
 "cells": [
  {
   "cell_type": "code",
   "execution_count": null,
   "id": "becc6e74",
   "metadata": {
    "vscode": {
     "languageId": "plaintext"
    }
   },
   "outputs": [],
   "source": [
    "# Regular Expression Matching\n",
    "class Solution:\n",
    "    def isMatch(self, s: str, p: str) -> bool:\n",
    "        i, j = len(s) - 1, len(p) - 1\n",
    "        return self.backtrack({}, s, p, i, j)\n",
    "\n",
    "    def backtrack(self, cache, s, p, i, j):\n",
    "        key = (i, j)\n",
    "        if key in cache:\n",
    "            return cache[key]\n",
    "\n",
    "        if i == -1 and j == -1:\n",
    "            cache[key] = True\n",
    "            return True\n",
    "\n",
    "        if i != -1 and j == -1:\n",
    "            cache[key] = False\n",
    "            return cache[key]\n",
    "\n",
    "        if i == -1 and p[j] == '*':\n",
    "            k = j\n",
    "            while k != -1 and p[k] == '*':\n",
    "                k -= 2\n",
    "            \n",
    "            if k == -1:\n",
    "                cache[key] = True\n",
    "                return cache[key]\n",
    "            \n",
    "            cache[key] = False\n",
    "            return cache[key]\n",
    "        \n",
    "        if i == -1 and p[j] != '*':\n",
    "            cache[key] = False\n",
    "            return cache[key]\n",
    "\n",
    "        if p[j] == '*':\n",
    "            if self.backtrack(cache, s, p, i, j - 2):\n",
    "                cache[key] = True\n",
    "                return cache[key]\n",
    "            \n",
    "            if p[j - 1] == s[i] or p[j - 1] == '.':\n",
    "                if self.backtrack(cache, s, p, i - 1, j):\n",
    "                    cache[key] = True\n",
    "                    return cache[key]\n",
    "        \n",
    "        if p[j] == '.' or s[i] == p[j]:\n",
    "            if self.backtrack(cache, s, p, i - 1, j - 1):\n",
    "                cache[key] = True\n",
    "                return cache[key]\n",
    "\n",
    "        cache[key] = False\n",
    "        return cache[key]"
   ]
  }
 ],
 "metadata": {
  "kernelspec": {
   "display_name": "Python 3 (ipykernel)",
   "language": "python",
   "name": "python3"
  },
  "language_info": {
   "codemirror_mode": {
    "name": "ipython",
    "version": 3
   },
   "file_extension": ".py",
   "mimetype": "text/x-python",
   "name": "python",
   "nbconvert_exporter": "python",
   "pygments_lexer": "ipython3",
   "version": "3.12.4"
  }
 },
 "nbformat": 4,
 "nbformat_minor": 5
}
